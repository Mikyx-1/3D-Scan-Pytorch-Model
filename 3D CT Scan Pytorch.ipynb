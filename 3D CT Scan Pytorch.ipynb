{
 "cells": [
  {
   "cell_type": "code",
   "execution_count": 1,
   "id": "f1ab4845",
   "metadata": {},
   "outputs": [],
   "source": [
    "from scipy import ndimage\n",
    "import nibabel as nib\n",
    "import random\n",
    "import torch\n",
    "import torch.nn as nn\n",
    "from torch import optim\n",
    "from torch.utils.data import DataLoader, Dataset\n",
    "import numpy as np\n",
    "import matplotlib.pyplot as plt\n",
    "import os\n",
    "import glob\n",
    "from torchvision.transforms import ToTensor"
   ]
  },
  {
   "cell_type": "code",
   "execution_count": null,
   "id": "40259699",
   "metadata": {},
   "outputs": [],
   "source": [
    "sample_path = \"C:/Users/DELL Inspiron/Desktop/ipnb projects/MosMedData/normal/study_0001.nii\"\n"
   ]
  },
  {
   "cell_type": "code",
   "execution_count": null,
   "id": "d6ccdedc",
   "metadata": {},
   "outputs": [],
   "source": [
    "img = read_nifty_file(sample_path)\n",
    "normalized = normalize(img)\n",
    "resized = resized_volume(normalized)"
   ]
  },
  {
   "cell_type": "code",
   "execution_count": null,
   "id": "682d321a",
   "metadata": {},
   "outputs": [],
   "source": [
    "normal_scan_paths = [os.path.join(os.getcwd(), \"MosMedData/normal\", x) for x in \n",
    "                    os.listdir(\"MosMedData/normal\")]\n",
    "abnormal_scan_paths = [\n",
    "    os.path.join(os.getcwd(), \"MosMedData/abnormal\", x)\n",
    "    for x in os.listdir(\"MosMedData/abnormal\")\n",
    "]\n"
   ]
  },
  {
   "cell_type": "code",
   "execution_count": null,
   "id": "a7e978b7",
   "metadata": {},
   "outputs": [],
   "source": [
    "class CTScanDataset(Dataset):\n",
    "    def __init__(self, directory):\n",
    "        super(CTScanDataset, self).__init__()\n",
    "        self.files = glob.glob(directory+\"/*/*\")\n",
    "        self.class_lookups = {\"normal\":0, \"abnormal\":1}\n",
    "    \n",
    "    def __len__(self):\n",
    "        return len(self.files)\n",
    "    \n",
    "    def __getitem__(self, idx):\n",
    "        file = self.files[idx]\n",
    "        label = self.class_lookups[file.split(os.path.sep)[-2]]\n",
    "        img = self.rotate(self.resize(self.normalize(self.read_nifti_file(file)))).unsqueeze(0)\n",
    "        return img, label\n",
    "    \n",
    "    def read_nifti_file(self, file):\n",
    "        scan = nib.load(file)\n",
    "        scan = scan.get_fdata()\n",
    "        return scan\n",
    "    def normalize(self, img):\n",
    "        max_value = np.max(img)\n",
    "        min_value = np.min(img)\n",
    "        normalized = (img-min_value)/(max_value-min_value)\n",
    "        return normalized\n",
    "    def resize(self, img):\n",
    "        desired_h = 128\n",
    "        desired_w = 128\n",
    "        desired_d = 64\n",
    "        \n",
    "        h, w, d = img.shape\n",
    "        resized = ndimage.zoom(img, (desired_h/h, desired_w/w, desired_d/d), order=1)\n",
    "        return resized\n",
    "    \n",
    "    def rotate(self, volume):\n",
    "        angles = [-20, -10, -5, 5, 10, 20]\n",
    "        angle = random.choice(angles)\n",
    "        volume = ndimage.rotate(volume, angle, reshape=False)\n",
    "        volume[volume>1] = 1\n",
    "        volume[volume<0] = 0\n",
    "        return ToTensor()(volume)\n",
    "        "
   ]
  },
  {
   "cell_type": "code",
   "execution_count": null,
   "id": "2449275f",
   "metadata": {},
   "outputs": [],
   "source": [
    "my_ds = CTScanDataset(directory=\"C:/Users/DELL Inspiron/Desktop/ipnb projects/MosMedData\")"
   ]
  },
  {
   "cell_type": "code",
   "execution_count": null,
   "id": "f8ee973f",
   "metadata": {},
   "outputs": [],
   "source": [
    "my_ds[5][0].shape"
   ]
  },
  {
   "cell_type": "code",
   "execution_count": null,
   "id": "084455b6",
   "metadata": {},
   "outputs": [],
   "source": [
    "train_loader = DataLoader(my_ds, batch_size = 8, shuffle=True)"
   ]
  },
  {
   "cell_type": "code",
   "execution_count": null,
   "id": "0757552f",
   "metadata": {},
   "outputs": [],
   "source": [
    "# Hyperparameters\n",
    "epochs = 5\n",
    "learning_rate = 3e-4"
   ]
  },
  {
   "cell_type": "code",
   "execution_count": 7,
   "id": "02d050bd",
   "metadata": {},
   "outputs": [],
   "source": [
    "class Classifier(nn.Module):\n",
    "    def __init__(self, in_channels):\n",
    "        super(Classifier, self).__init__()\n",
    "        self.in_channels = in_channels\n",
    "        self.block1 = nn.Sequential(nn.Conv3d(in_channels = self.in_channels,\n",
    "                                        out_channels=256, kernel_size = 3, padding=1),\n",
    "                                    nn.ReLU(),\n",
    "                                    nn.MaxPool3d(kernel_size=2),\n",
    "                                    nn.BatchNorm3d(256) # N x 256 x 32 x 64 x 64\n",
    "                              )\n",
    "        self.block2 = nn.Sequential(nn.Conv3d(in_channels=256, out_channels=128,\n",
    "                                             kernel_size = 3, padding=1),\n",
    "                                    nn.ReLU(),\n",
    "                                   nn.MaxPool3d(kernel_size=2),\n",
    "                                   nn.BatchNorm3d(128)) # N x 128 x 16 x 32 x 32\n",
    "        \n",
    "        self.block3 = nn.Sequential(nn.Conv3d(in_channels=128, out_channels=64,\n",
    "                                             kernel_size=3, padding = 1),\n",
    "                                    nn.ReLU(),\n",
    "                                   nn.MaxPool3d(kernel_size=2),\n",
    "                                   nn.BatchNorm3d(64))  # N x 64 x 8 x 16 x 16\n",
    "        self.GlobalPool = nn.AdaptiveAvgPool3d(1)  # N x 64\n",
    "        self.fc1 = nn.Sequential(nn.Linear(64, 512),\n",
    "                                 nn.ReLU(),\n",
    "                                nn.Dropout(0.3),\n",
    "                                nn.Linear(512, 1))\n",
    "        \n",
    "    \n",
    "    def forward(self, x):\n",
    "        x = self.block1(x)\n",
    "        x = self.block2(x)\n",
    "        x= self.block3(x)\n",
    "        x = self.GlobalPool(x).squeeze()\n",
    "        x = self.fc1(x)\n",
    "        return x"
   ]
  },
  {
   "cell_type": "code",
   "execution_count": 8,
   "id": "38479bd6",
   "metadata": {},
   "outputs": [],
   "source": [
    "model = Classifier(1)\n",
    "x = torch.randn((2, 1, 64, 128, 128))"
   ]
  },
  {
   "cell_type": "code",
   "execution_count": 9,
   "id": "a77d35e3",
   "metadata": {},
   "outputs": [],
   "source": [
    "with torch.no_grad():\n",
    "    test = model(x)"
   ]
  },
  {
   "cell_type": "code",
   "execution_count": 12,
   "id": "d7860164",
   "metadata": {},
   "outputs": [
    {
     "data": {
      "text/plain": [
       "torch.Size([2, 1])"
      ]
     },
     "execution_count": 12,
     "metadata": {},
     "output_type": "execute_result"
    }
   ],
   "source": [
    "test.shape"
   ]
  },
  {
   "cell_type": "code",
   "execution_count": null,
   "id": "d6b24a55",
   "metadata": {},
   "outputs": [],
   "source": [
    "block1 = nn.Sequential(nn.Conv3d(in_channels = 1,\n",
    "                                        out_channels=256, kernel_size = 3, padding=1),\n",
    "                                    nn.ReLU(),\n",
    "                                    nn.MaxPool3d(kernel_size=2),\n",
    "                                    nn.BatchNorm3d(256) # N x 256 x 32 x 64 x 64\n",
    "                              )\n",
    "block2 = nn.Sequential(nn.Conv3d(in_channels=256, out_channels=128,\n",
    "                                     kernel_size = 3, padding=1),\n",
    "                            nn.ReLU(),\n",
    "                           nn.MaxPool3d(kernel_size=2),\n",
    "                           nn.BatchNorm3d(128)) # N x 128 x 16 x 32 x 32\n",
    "\n",
    "block3 = nn.Sequential(nn.Conv3d(in_channels=128, out_channels=64,\n",
    "                                     kernel_size=3, padding = 1),\n",
    "                            nn.ReLU(),\n",
    "                           nn.MaxPool3d(kernel_size=2),\n",
    "                           nn.BatchNorm3d(64))  # N x 64 x 8 x 16 x 16\n",
    "GlobalPool = nn.AdaptiveAvgPool3d(1)  # N x 64\n",
    "fc1 = nn.Sequential(nn.Linear(64, 512),\n",
    "                         nn.ReLU(),\n",
    "                        nn.Dropout(0.3),\n",
    "                        nn.Linear(512, 1))"
   ]
  },
  {
   "cell_type": "code",
   "execution_count": 2,
   "id": "d65d33fa",
   "metadata": {},
   "outputs": [],
   "source": [
    "x = torch.randn((2, 1, 64, 128, 128))"
   ]
  },
  {
   "cell_type": "code",
   "execution_count": 3,
   "id": "89d3e823",
   "metadata": {},
   "outputs": [],
   "source": [
    "block11 = nn.Conv3d(1, 256, 3, padding=1)"
   ]
  },
  {
   "cell_type": "code",
   "execution_count": 4,
   "id": "0398c0ec",
   "metadata": {},
   "outputs": [],
   "source": [
    "test1 = block11(x)"
   ]
  },
  {
   "cell_type": "code",
   "execution_count": null,
   "id": "e575645e",
   "metadata": {},
   "outputs": [],
   "source": [
    "m = nn.Conv3d(1, 256, 3, padding=1)\n",
    "input = torch.randn(2, 1, 64, 128, 128)\n",
    "output = m(input)"
   ]
  },
  {
   "cell_type": "code",
   "execution_count": null,
   "id": "e8f5a310",
   "metadata": {},
   "outputs": [],
   "source": [
    "output.shape"
   ]
  },
  {
   "cell_type": "code",
   "execution_count": null,
   "id": "8f18ba2e",
   "metadata": {},
   "outputs": [],
   "source": []
  }
 ],
 "metadata": {
  "kernelspec": {
   "display_name": "virenv1",
   "language": "python",
   "name": "virenv1"
  },
  "language_info": {
   "codemirror_mode": {
    "name": "ipython",
    "version": 3
   },
   "file_extension": ".py",
   "mimetype": "text/x-python",
   "name": "python",
   "nbconvert_exporter": "python",
   "pygments_lexer": "ipython3",
   "version": "3.7.15"
  }
 },
 "nbformat": 4,
 "nbformat_minor": 5
}
